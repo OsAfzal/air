{
 "cells": [
  {
   "cell_type": "code",
   "execution_count": 1,
   "id": "f02c07b4-0052-4b75-8ea4-c4139d24cd9f",
   "metadata": {},
   "outputs": [],
   "source": [
    "import air\n",
    "import pandas as pd \n",
    "import xarray as xr \n",
    "import merra\n",
    "import matplotlib.pyplot as plt "
   ]
  },
  {
   "cell_type": "code",
   "execution_count": 2,
   "id": "cffdf105-218d-4289-aba9-1064ac9ad0f8",
   "metadata": {},
   "outputs": [],
   "source": [
    "lhr_pm25 = air.pm('Air Data/OpenAQ/khr')"
   ]
  },
  {
   "cell_type": "code",
   "execution_count": 3,
   "id": "64f6e4e5-0503-492c-b432-5f8eade62f3f",
   "metadata": {},
   "outputs": [],
   "source": [
    "lhr_pm25 = lhr_pm25.resample('1D').mean().ffill()"
   ]
  },
  {
   "cell_type": "code",
   "execution_count": 4,
   "id": "92212410-0f93-4c4e-a6fa-5b41d0590ffc",
   "metadata": {},
   "outputs": [],
   "source": [
    "lhr_weather = pd.read_csv('Air Data/Visual Crossing/karachi 2019-01-01 to 2025-03-01.csv')"
   ]
  },
  {
   "cell_type": "code",
   "execution_count": 5,
   "id": "1b890246-612f-4dd7-a6e7-c856077a1651",
   "metadata": {},
   "outputs": [],
   "source": [
    "lhr_weather['datetime'] = pd.to_datetime(lhr_weather['datetime'])"
   ]
  },
  {
   "cell_type": "code",
   "execution_count": 6,
   "id": "91beb981-d7a3-401d-bd84-bc7c2f727533",
   "metadata": {},
   "outputs": [],
   "source": [
    "lhr_weather.set_index('datetime', inplace=True)"
   ]
  },
  {
   "cell_type": "code",
   "execution_count": 7,
   "id": "db112998-f046-4f2f-a25b-8e7e42f4bab3",
   "metadata": {},
   "outputs": [],
   "source": [
    "lhr_weather = lhr_weather.tz_localize('Asia/Karachi')"
   ]
  },
  {
   "cell_type": "code",
   "execution_count": 10,
   "id": "6b582c00-9db5-4c4a-8e30-db0a5a2a3d68",
   "metadata": {},
   "outputs": [],
   "source": [
    "df = pd.merge(lhr_weather, lhr_pm25, on='datetime', how='left')"
   ]
  },
  {
   "cell_type": "code",
   "execution_count": 11,
   "id": "58ca9929-a0e5-402d-9fb8-975ffad93d1b",
   "metadata": {},
   "outputs": [],
   "source": [
    "df.to_csv(\"khr_incomp.csv\")"
   ]
  },
  {
   "cell_type": "code",
   "execution_count": null,
   "id": "3f60a926-5f2d-4644-8b70-a45bd63777a3",
   "metadata": {},
   "outputs": [],
   "source": []
  }
 ],
 "metadata": {
  "kernelspec": {
   "display_name": "GIS",
   "language": "python",
   "name": "gis"
  },
  "language_info": {
   "codemirror_mode": {
    "name": "ipython",
    "version": 3
   },
   "file_extension": ".py",
   "mimetype": "text/x-python",
   "name": "python",
   "nbconvert_exporter": "python",
   "pygments_lexer": "ipython3",
   "version": "3.11.11"
  }
 },
 "nbformat": 4,
 "nbformat_minor": 5
}
